{
  "nbformat": 4,
  "nbformat_minor": 0,
  "metadata": {
    "colab": {
      "name": "0.5_COLAB_data_model.ipynb",
      "version": "0.3.2",
      "provenance": [],
      "collapsed_sections": []
    },
    "language_info": {
      "codemirror_mode": {
        "name": "ipython",
        "version": 3
      },
      "file_extension": ".py",
      "mimetype": "text/x-python",
      "name": "python",
      "nbconvert_exporter": "python",
      "pygments_lexer": "ipython3",
      "version": "3.6.8"
    },
    "kernelspec": {
      "name": "python3",
      "display_name": "Python 3"
    },
    "accelerator": "GPU"
  },
  "cells": [
    {
      "cell_type": "code",
      "metadata": {
        "colab_type": "code",
        "id": "NVygkdz95t3I",
        "outputId": "bf33b424-e7f9-4814-baf6-b4d3bb919f4f",
        "colab": {
          "base_uri": "https://localhost:8080/",
          "height": 272
        }
      },
      "source": [
        "import numpy as np\n",
        "import random\n",
        "import os \n",
        "\n",
        "from PIL import Image\n",
        "from skimage import io\n",
        "\n",
        "import torch \n",
        "from torch import  optim\n",
        "from torch import nn\n",
        "from torch.utils.data import DataLoader\n",
        "\n",
        "import torchvision\n",
        "from torchvision import transforms\n",
        "from torchvision import datasets\n",
        "from torchvision.transforms.functional import normalize as F_normalize\n",
        "\n",
        "!pip install tb-nightly\n",
        "!pip install future\n",
        "\n",
        "\n",
        "\n",
        "import matplotlib.pyplot as plt\n",
        "%matplotlib inline"
      ],
      "execution_count": 6,
      "outputs": [
        {
          "output_type": "stream",
          "text": [
            "Collecting tb-nightly\n",
            "\u001b[?25l  Downloading https://files.pythonhosted.org/packages/d5/64/e6221e5ecf7a64a7ee1218e7b3546d7c5975f505a0f495c9b85992bbdf4d/tb_nightly-1.14.0a20190509-py3-none-any.whl (3.1MB)\n",
            "\u001b[K     |████████████████████████████████| 3.1MB 2.8MB/s \n",
            "\u001b[?25hRequirement already satisfied: six>=1.10.0 in /usr/local/lib/python3.6/dist-packages (from tb-nightly) (1.12.0)\n",
            "Requirement already satisfied: wheel>=0.26; python_version >= \"3\" in /usr/local/lib/python3.6/dist-packages (from tb-nightly) (0.33.1)\n",
            "Requirement already satisfied: grpcio>=1.6.3 in /usr/local/lib/python3.6/dist-packages (from tb-nightly) (1.15.0)\n",
            "Requirement already satisfied: absl-py>=0.4 in /usr/local/lib/python3.6/dist-packages (from tb-nightly) (0.7.1)\n",
            "Requirement already satisfied: werkzeug>=0.11.15 in /usr/local/lib/python3.6/dist-packages (from tb-nightly) (0.15.2)\n",
            "Requirement already satisfied: protobuf>=3.6.0 in /usr/local/lib/python3.6/dist-packages (from tb-nightly) (3.7.1)\n",
            "Requirement already satisfied: numpy>=1.12.0 in /usr/local/lib/python3.6/dist-packages (from tb-nightly) (1.16.3)\n",
            "Requirement already satisfied: markdown>=2.6.8 in /usr/local/lib/python3.6/dist-packages (from tb-nightly) (3.1)\n",
            "Requirement already satisfied: setuptools in /usr/local/lib/python3.6/dist-packages (from protobuf>=3.6.0->tb-nightly) (41.0.1)\n",
            "Installing collected packages: tb-nightly\n",
            "Successfully installed tb-nightly-1.14.0a20190509\n",
            "Requirement already satisfied: future in /usr/local/lib/python3.6/dist-packages (0.16.0)\n"
          ],
          "name": "stdout"
        }
      ]
    },
    {
      "cell_type": "markdown",
      "metadata": {
        "colab_type": "text",
        "id": "taOAGWza5t3V"
      },
      "source": [
        "#### Download Data"
      ]
    },
    {
      "cell_type": "code",
      "metadata": {
        "colab_type": "code",
        "id": "SX2li2sT5t3X",
        "outputId": "7440d9de-0478-4876-b9bf-13201ecb8965",
        "colab": {
          "base_uri": "https://localhost:8080/",
          "height": 289
        }
      },
      "source": [
        "!wget --directory-prefix=data/  http://www.mimuw.edu.pl/~ciebie/cityscapes.tgz \n",
        "!tar -xzf data/cityscapes.tgz -C data/\n",
        "!python data/cityscapes/check_close.py # Check files\n",
        "!rm data/cityscapes.tgz\n",
        "!rm data/cityscapes/README.md\n",
        "!rm data/cityscapes/check_close.py\n",
        "!rm -r  data/cityscapes/.ipynb_checkpoints\n",
        "\n",
        "DATASET_FOLDER = \"data/cityscapes\"\n",
        "PIXELS_IN_PIC = 256 *256"
      ],
      "execution_count": 7,
      "outputs": [
        {
          "output_type": "stream",
          "text": [
            "--2019-05-09 11:21:12--  http://www.mimuw.edu.pl/~ciebie/cityscapes.tgz\n",
            "Resolving www.mimuw.edu.pl (www.mimuw.edu.pl)... 193.0.96.14\n",
            "Connecting to www.mimuw.edu.pl (www.mimuw.edu.pl)|193.0.96.14|:80... connected.\n",
            "HTTP request sent, awaiting response... 301 Moved Permanently\n",
            "Location: https://www.mimuw.edu.pl/~ciebie/cityscapes.tgz [following]\n",
            "--2019-05-09 11:21:12--  https://www.mimuw.edu.pl/~ciebie/cityscapes.tgz\n",
            "Connecting to www.mimuw.edu.pl (www.mimuw.edu.pl)|193.0.96.14|:443... connected.\n",
            "HTTP request sent, awaiting response... 200 OK\n",
            "Length: 310275605 (296M) [application/x-gzip]\n",
            "Saving to: ‘data/cityscapes.tgz’\n",
            "\n",
            "cityscapes.tgz      100%[===================>] 295.90M  10.9MB/s    in 26s     \n",
            "\n",
            "2019-05-09 11:21:39 (11.5 MB/s) - ‘data/cityscapes.tgz’ saved [310275605/310275605]\n",
            "\n",
            "rm: cannot remove 'data/cityscapes/.ipynb_checkpoints': No such file or directory\n"
          ],
          "name": "stdout"
        }
      ]
    },
    {
      "cell_type": "markdown",
      "metadata": {
        "id": "R8Hm2O_1wgOv",
        "colab_type": "text"
      },
      "source": [
        "#### Define device to train on"
      ]
    },
    {
      "cell_type": "code",
      "metadata": {
        "id": "GvsPwqOowgOx",
        "colab_type": "code",
        "colab": {}
      },
      "source": [
        "global device\n",
        "device = torch.device(\"cuda:0\" if torch.cuda.is_available() else \"cpu\")"
      ],
      "execution_count": 0,
      "outputs": []
    },
    {
      "cell_type": "markdown",
      "metadata": {
        "colab_type": "text",
        "id": "WD1cQiwK5t3e"
      },
      "source": [
        "### Data preprocessing"
      ]
    },
    {
      "cell_type": "markdown",
      "metadata": {
        "colab_type": "text",
        "id": "9INHkhP25t3g"
      },
      "source": [
        "#### Dataset class"
      ]
    },
    {
      "cell_type": "code",
      "metadata": {
        "colab_type": "code",
        "id": "81j82LmC5t3i",
        "colab": {}
      },
      "source": [
        "class CityScapes(torch.utils.data.Dataset):\n",
        "    def __init__(self, path, transform = None):\n",
        "        self.data_folder = path\n",
        "        self.len = len(os.listdir(path))\n",
        "        self.transform = transform\n",
        "        \n",
        "    def __getitem__(self, idx):\n",
        "        path_to_file = os.path.join(self.data_folder,os.listdir(self.data_folder)[idx-1])\n",
        "        image = io.imread(path_to_file)\n",
        "        \n",
        "        if self.transform:\n",
        "            image = self.transform(image)\n",
        "        return image\n",
        "    \n",
        "    def __len__(self):\n",
        "        return self.len"
      ],
      "execution_count": 0,
      "outputs": []
    },
    {
      "cell_type": "markdown",
      "metadata": {
        "colab_type": "text",
        "id": "2IXi6buX5t3o"
      },
      "source": [
        "#### Array with classes for segmentation"
      ]
    },
    {
      "cell_type": "markdown",
      "metadata": {
        "id": "Y-kvEN6LwgPA",
        "colab_type": "text"
      },
      "source": [
        "##### Function to convert RGB picture to feature map\n",
        "##### source: https://stackoverflow.com/questions/33196130/replacing-rgb-values-in-numpy-array-by-integer-is-extremely-slow"
      ]
    },
    {
      "cell_type": "code",
      "metadata": {
        "id": "X8ZsLzk_wgPC",
        "colab_type": "code",
        "colab": {}
      },
      "source": [
        "def RGB_to_idx(image, arr_to_idx):\n",
        "    image = image.dot(np.array([65536, 256, 1], dtype='int32'))\n",
        "    result = np.ndarray(shape=image.shape, dtype=int)\n",
        "    result[:,:] = -1\n",
        "    for rgb, idx in arr_to_idx.items():\n",
        "        rgb = rgb[0] * 65536 + rgb[1] * 256 + rgb[2]\n",
        "        result[image==rgb] = idx\n",
        "    return result\n",
        "\n",
        "def idx_to_RGB(image, idx_to_rgb):\n",
        "    result = np.ndarray(shape=(256,256,3), dtype=int)\n",
        "    result[:,:,:] = -1\n",
        "    for x in range(256):\n",
        "      for y in range(256):\n",
        "        result[x][y] = idx_to_arr[int(image[x][y])]\n",
        "    return result\n",
        "  \n",
        "  \n",
        "  \n",
        "check_array = np.array(\n",
        "    [[116, 17, 36],[152, 43,150],\n",
        "     [106,141, 34],[ 69, 69, 69],\n",
        "     [  2,  1,  3],[127, 63,126],\n",
        "     [222, 52,211],[  2,  1,140],\n",
        "     [ 93,117,119],\n",
        "     [180,228,182],[213,202, 43],\n",
        "     [ 79,  2, 80],[188,151,155],\n",
        "     [  9,  5, 91],[106, 75, 13],\n",
        "     [215, 20, 53],[110,134, 62],\n",
        "     [  8, 68, 98],[244,171,170],\n",
        "     [171, 43, 74],[104, 96,155],\n",
        "     [ 72,130,177],[242, 35,231],\n",
        "     [147,149,149],[ 35, 25, 34],\n",
        "     [155,247,151],[ 85, 68, 99],\n",
        "     [ 71, 81, 43],[195, 64,182],\n",
        "     [146,133, 92]]\n",
        ")\n",
        "\n",
        "arr_to_idx = {tuple(arr):idx for idx,arr in enumerate(check_array)}\n",
        "idx_to_arr = {idx: arr for idx,arr in enumerate(check_array)}"
      ],
      "execution_count": 0,
      "outputs": []
    },
    {
      "cell_type": "markdown",
      "metadata": {
        "colab_type": "text",
        "id": "MtU8bjRi5t30"
      },
      "source": [
        "#### Custom Transformations"
      ]
    },
    {
      "cell_type": "code",
      "metadata": {
        "colab_type": "code",
        "id": "NCml-zfz5t32",
        "colab": {}
      },
      "source": [
        "class Split_N(object):\n",
        "    def __call__(self,sample):\n",
        "      return sample[:,:256,:].astype(\"float32\"), sample[:,256:,:].astype(\"float32\")\n",
        "\n",
        "class Split(object):\n",
        "    def __call__(self,sample):\n",
        "      return sample[:,:256,:], sample[:,256:,:]\n",
        "\n",
        "    \n",
        "# trsf = transforms.Compose([Split()])\n",
        "# dataset = CityScapes(DATASET_FOLDER, transform=trsf)"
      ],
      "execution_count": 0,
      "outputs": []
    },
    {
      "cell_type": "markdown",
      "metadata": {
        "colab_type": "text",
        "id": "SQPeh_YW5t4c"
      },
      "source": [
        "#### Create DataLoader for training and validation"
      ]
    },
    {
      "cell_type": "code",
      "metadata": {
        "colab_type": "code",
        "id": "3ehXYlkY5t4e",
        "colab": {}
      },
      "source": [
        "# indices = np.arange(dataset.__len__())\n",
        "# np.random.shuffle(indices)\n",
        "\n",
        "# # Random indices for training and validation Ratio 2975 / 500 \n",
        "# val_indices, train_indices =  indices[:500], indices[500:]\n",
        "\n",
        "# train_sampler = torch.utils.data.SubsetRandomSampler(train_indices)\n",
        "# val_sampler = torch.utils.data.SubsetRandomSampler(val_indices)\n",
        "\n",
        "# # train_loader = DataLoader(dataset, batch_size = 8, sampler = train_sampler) \n",
        "# # val_loader = DataLoader(dataset, batch_size = 8, sampler = val_sampler)\n"
      ],
      "execution_count": 0,
      "outputs": []
    },
    {
      "cell_type": "markdown",
      "metadata": {
        "id": "DXwDWfAWloc_",
        "colab_type": "text"
      },
      "source": [
        "#### Calculate *mean* and *std*"
      ]
    },
    {
      "cell_type": "code",
      "metadata": {
        "id": "2_ZjF_mYmp6Z",
        "colab_type": "code",
        "colab": {}
      },
      "source": [
        "#train_loader = DataLoader(dataset, batch_size = len(train_sampler.indices), sampler = train_sampler) \n",
        "#for data,_ in train_loader:\n",
        "#     std = [data[:,:,:,0].std(),data[:,:,:,1].std(),data[:,:,:,2].std()]\n",
        "#     mean = [data[:,:,:,0].mean(),data[:,:,:,1].mean(),data[:,:,:,2].mean()]    "
      ],
      "execution_count": 0,
      "outputs": []
    },
    {
      "cell_type": "code",
      "metadata": {
        "id": "ANiBj7JA7ADG",
        "colab_type": "code",
        "colab": {}
      },
      "source": [
        "class HorizontalFlip_Normalize(object):\n",
        "    \n",
        "    def __init__(self,mean,std):\n",
        "      self.mean = mean\n",
        "      self.std = std\n",
        "      \n",
        "    def __call__(self,sample):\n",
        "        X,y = sample\n",
        "        \n",
        "        y = RGB_to_idx(y,arr_to_idx)\n",
        "        if np.random.random() > 0.5:\n",
        "            X[:], y[:] = X[:,::-1,:],y[:,::-1]\n",
        "            \n",
        "        X = transforms.functional.to_tensor(X)\n",
        "        return (F_normalize(X, self.mean, self.std), torch.from_numpy(y))\n",
        "      \n",
        "class HorizontalFlip(object):\n",
        "   \n",
        "    def __call__(self,sample):\n",
        "        X,y = sample\n",
        "        \n",
        "        y = RGB_to_idx(y,arr_to_idx)\n",
        "        if np.random.random() > 0.5:\n",
        "            X[:], y[:] = X[:,::-1,:],y[:,::-1]\n",
        "            \n",
        "        X = transforms.functional.to_tensor(X)\n",
        "        return (X, torch.from_numpy(y))\n",
        "      \n",
        "            "
      ],
      "execution_count": 0,
      "outputs": []
    },
    {
      "cell_type": "markdown",
      "metadata": {
        "id": "whL_iF7N9LJJ",
        "colab_type": "text"
      },
      "source": [
        "#### Data Loader with normalization"
      ]
    },
    {
      "cell_type": "code",
      "metadata": {
        "id": "8nJn6VRz9KjI",
        "colab_type": "code",
        "colab": {}
      },
      "source": [
        "mean_calc = [22.0289,22.0289,22.0289]\n",
        "std_calc = [47.1833,47.7054,47.2338]\n",
        "\n",
        "trsf = transforms.Compose([Split(),HorizontalFlip()])\n",
        "dataset = CityScapes(DATASET_FOLDER, transform=trsf)\n",
        "\n",
        "\n",
        "\n",
        "indices = np.arange(dataset.__len__())\n",
        "np.random.shuffle(indices)\n",
        "\n",
        "# Random indices for training and validation Ratio 2975 / 500 \n",
        "val_indices, train_indices =  indices[:500], indices[500:]\n",
        "\n",
        "train_sampler = torch.utils.data.SubsetRandomSampler(train_indices)\n",
        "val_sampler = torch.utils.data.SubsetRandomSampler(val_indices)\n",
        "\n",
        "\n",
        "train_loader = DataLoader(dataset, batch_size = 8, sampler = train_sampler) \n",
        "val_loader = DataLoader(dataset, batch_size = 8, sampler = val_sampler)"
      ],
      "execution_count": 0,
      "outputs": []
    },
    {
      "cell_type": "code",
      "metadata": {
        "id": "2JLGBTv7S7uD",
        "colab_type": "code",
        "outputId": "3c83cf43-9b7f-488c-e3f8-29bf46948b11",
        "colab": {
          "base_uri": "https://localhost:8080/",
          "height": 521
        }
      },
      "source": [
        "for i in range(2):\n",
        "  plt.imshow(idx_to_RGB(dataset[1024+i][1],idx_to_arr))\n",
        "  plt.pause(1)"
      ],
      "execution_count": 15,
      "outputs": [
        {
          "output_type": "display_data",
          "data": {
            "image/png": "[encoded data removed]",
            "text/plain": [
              "<Figure size 432x288 with 1 Axes>"
            ]
          },
          "metadata": {
            "tags": []
          }
        },
        {
          "output_type": "display_data",
          "data": {
            "image/png": "[encoded data removed]",
            "text/plain": [
              "<Figure size 432x288 with 1 Axes>"
            ]
          },
          "metadata": {
            "tags": []
          }
        }
      ]
    },
    {
      "cell_type": "markdown",
      "metadata": {
        "id": "yXcwOzIe8N3u",
        "colab_type": "text"
      },
      "source": [
        "#### Class balance"
      ]
    },
    {
      "cell_type": "code",
      "metadata": {
        "id": "m_d5vDW68JqK",
        "colab_type": "code",
        "colab": {}
      },
      "source": [
        "def make_histogram(dataset):\n",
        "  dict_classes  = { idx:0 for idx in range(30)}\n",
        "  \n",
        "  for i in range(dataset.len):\n",
        "      _, y = dataset[i]\n",
        "      for class_idx in dict_classes.keys():\n",
        "        dict_classes[class_idx] += np.sum(np.where(y == class_idx, 1, 0))\n",
        "  return dict_classes \n",
        "classes_freq_dictionary = make_histogram(dataset)"
      ],
      "execution_count": 0,
      "outputs": []
    },
    {
      "cell_type": "code",
      "metadata": {
        "id": "PLBUswJkWPzz",
        "colab_type": "code",
        "colab": {}
      },
      "source": [
        "def make_weight(dict_hist):\n",
        "    num_class = len(dict_hist.keys())\n",
        "    weight = np.empty(num_class)\n",
        "    \n",
        "    total_pixels = np.sum( list(dict_hist.values()) )\n",
        "    \n",
        "    for i in range(num_class):\n",
        "      weight[i] =  dict_hist[i] /total_pixels\n",
        "    return torch.Tensor(weight)\n",
        "global weight  \n",
        "weight = make_weight(classes_freq_dictionary)"
      ],
      "execution_count": 0,
      "outputs": []
    },
    {
      "cell_type": "code",
      "metadata": {
        "id": "Yvql4nUw8gf1",
        "colab_type": "code",
        "colab": {}
      },
      "source": [
        "plt.bar(classes_freq_dictionary.keys(), classes_freq_dictionary.values(), width=2,);"
      ],
      "execution_count": 0,
      "outputs": []
    },
    {
      "cell_type": "markdown",
      "metadata": {
        "colab_type": "text",
        "id": "YkiHZp_A5t4l"
      },
      "source": [
        "### Defining U-net"
      ]
    },
    {
      "cell_type": "code",
      "metadata": {
        "colab_type": "code",
        "id": "YKWVOBaf5t4n",
        "colab": {}
      },
      "source": [
        "def make_block(in_channels, out_channels):\n",
        "    block = nn.Sequential(nn.ReplicationPad2d(1),\n",
        "                              nn.Conv2d(in_channels, out_channels, 3, bias = False),\n",
        "                              nn.ReLU(),\n",
        "                              nn.BatchNorm2d(out_channels),\n",
        "                              nn.ReplicationPad2d(1),\n",
        "                              nn.Conv2d(out_channels, out_channels, 3, bias = False),\n",
        "                              nn.ReLU(),\n",
        "                              nn.BatchNorm2d(out_channels)\n",
        "                             )\n",
        "    if (device.type == \"cuda\"):\n",
        "        block.type(torch.cuda.FloatTensor)\n",
        "    return block"
      ],
      "execution_count": 0,
      "outputs": []
    },
    {
      "cell_type": "code",
      "metadata": {
        "colab_type": "code",
        "id": "YHS95_hn5t4s",
        "colab": {}
      },
      "source": [
        "class UNet(nn.Module):\n",
        "    def __init__(self, basic_chl,num_classes = 30,image_channels = 3):\n",
        "        super(UNet, self).__init__()\n",
        "        \n",
        "        #Calculate channels based on basic channel\n",
        "        BL1_chl, BL2_chl, BL3_chl, BL4_chl, BL5_chl= [basic_chl * i for i in [1,2,4,8,16]]\n",
        "        \n",
        "        #Encoder blocks\n",
        "        self.ENC_BL1 = make_block(image_channels,BL1_chl)\n",
        "        self.ENC_BL2 = make_block(BL1_chl,BL2_chl)\n",
        "        self.ENC_BL3 = make_block(BL2_chl,BL3_chl)\n",
        "        self.ENC_BL4 = make_block(BL3_chl,BL4_chl)\n",
        "        self.ENC_BL5 = make_block(BL4_chl,BL5_chl)\n",
        "        \n",
        "        #MaxPool for downsampling\n",
        "        self.MaxPool = nn.MaxPool2d(2,2)\n",
        "        \n",
        "        #UpConv for upsampling\n",
        "        self.UpConv1 = nn.ConvTranspose2d(BL5_chl, BL4_chl, 2, stride = 2)\n",
        "        self.UpConv2 = nn.ConvTranspose2d(BL4_chl, BL3_chl, 2, stride = 2)\n",
        "        self.UpConv3 = nn.ConvTranspose2d(BL3_chl, BL2_chl, 2, stride = 2)\n",
        "        self.UpConv4 = nn.ConvTranspose2d(BL2_chl, BL1_chl, 2, stride = 2)\n",
        "        \n",
        "        #Decoder blocks\n",
        "        self.DEC_BL1 = make_block(BL5_chl,BL4_chl)\n",
        "        self.DEC_BL2 = make_block(BL4_chl,BL3_chl)\n",
        "        self.DEC_BL3 = make_block(BL3_chl,BL2_chl)\n",
        "        self.DEC_BL4 = make_block(BL2_chl,BL1_chl)\n",
        "        \n",
        "        # Last convolution\n",
        "        self.Final_CONV = nn.Conv2d(basic_chl, num_classes, 1)\n",
        "        \n",
        "    \n",
        "    def forward(self,X):\n",
        "        # Encoder\n",
        "        ENC_1_out = self.ENC_BL1.forward(X)\n",
        "        MaxENC_1_out = self.MaxPool.forward(ENC_1_out)\n",
        "        \n",
        "        ENC_2_out = self.ENC_BL2.forward(MaxENC_1_out)\n",
        "        MaxENC_2_out = self.MaxPool.forward(ENC_2_out)\n",
        "        \n",
        "        ENC_3_out = self.ENC_BL3.forward(MaxENC_2_out)\n",
        "        MaxENC_3_out = self.MaxPool.forward(ENC_3_out)\n",
        "        \n",
        "        ENC_4_out = self.ENC_BL4.forward(MaxENC_3_out)\n",
        "        MaxENC_4_out = self.MaxPool.forward(ENC_4_out)\n",
        "                \n",
        "        # Bridge to Decoder\n",
        "        ENC_5_out = self.ENC_BL5.forward(MaxENC_4_out)\n",
        "        UpENC_5_out = self.UpConv1.forward(ENC_5_out)  \n",
        "        \n",
        "        #Decoder\n",
        "        DEC_1_in = torch.cat((UpENC_5_out,ENC_4_out), dim = 1)\n",
        "        DEC_1_out = self.DEC_BL1.forward( DEC_1_in)\n",
        "        UpDEC_1_out = self.UpConv2.forward(DEC_1_out)\n",
        "        \n",
        "        \n",
        "        DEC_2_in = torch.cat((UpDEC_1_out,ENC_3_out), dim = 1)\n",
        "        DEC_2_out = self.DEC_BL2.forward(DEC_2_in)\n",
        "        UpDEC_2_out = self.UpConv3.forward(DEC_2_out)\n",
        "        \n",
        "        DEC_3_in = torch.cat((UpDEC_2_out,ENC_2_out), dim = 1)\n",
        "        DEC_3_out = self.DEC_BL3.forward(DEC_3_in)\n",
        "        UpDEC_3_out = self.UpConv4.forward(DEC_3_out)\n",
        "        \n",
        "        DEC_4_in = torch.cat((UpDEC_3_out,ENC_1_out), dim = 1)\n",
        "        DEC_4_out = self.DEC_BL4.forward(DEC_4_in)\n",
        "          \n",
        "        #Final Convolution    \n",
        "        segmenatation_map = self.Final_CONV.forward(DEC_4_out)\n",
        "    \n",
        "        return segmenatation_map"
      ],
      "execution_count": 0,
      "outputs": []
    },
    {
      "cell_type": "markdown",
      "metadata": {
        "id": "ieUdserVqmCb",
        "colab_type": "text"
      },
      "source": [
        "### Compute Validation"
      ]
    },
    {
      "cell_type": "code",
      "metadata": {
        "colab_type": "code",
        "id": "JuNedfah5t45",
        "colab": {}
      },
      "source": [
        "def compute_validation_accuracy(model, val_loader):\n",
        "    model.eval()\n",
        "    \n",
        "    acc_accum = 0.0\n",
        "    PIXELS_IN_BATCH = PIXELS_IN_PIC * val_loader.batch_size\n",
        "    for idx,(X,y) in enumerate(val_loader):\n",
        "            \n",
        "        x = X.to(device)\n",
        "        y = y.to(device)\n",
        "                \n",
        "        prediction = torch.argmax( model(x), dim = 1)   \n",
        "        acc_accum += float(torch.sum(prediction == y))/PIXELS_IN_BATCH\n",
        "        \n",
        "    accuracy = acc_accum / val_loader.__len__()    \n",
        "    return accuracy\n",
        "  \n",
        "\n",
        "def visualize_random_sample(model, loader = val_loader,num_samples = 3):\n",
        "    model.eval()\n",
        "    random_idx = np.random.choice(loader.sampler.indices, size = num_samples)\n",
        "    fig, axs = plt.subplots(num_samples,3, figsize=(10,10))\n",
        "    \n",
        "    for ax in axs:\n",
        "      for obj in ax:\n",
        "          obj.axis(\"off\")\n",
        "    \n",
        "    for i,idx in enumerate(random_idx):\n",
        "        X,y = dataset[idx]\n",
        "        \n",
        "        \n",
        "        axs[i,0].imshow(X.permute(1,2,0))\n",
        "        axs[i,1].imshow(idx_to_RGB(y, idx_to_arr))\n",
        "                \n",
        "        X = X.to(device)\n",
        "        y = y.to(device)\n",
        "        \n",
        "        pred = torch.argmax( model(X.unsqueeze(0)) ,dim=1) \n",
        "        axs[i,2].imshow(idx_to_RGB(pred[0].cpu(), idx_to_arr))\n",
        "        \n",
        "        \n",
        "        idx_acc = float(torch.sum(pred == y))/PIXELS_IN_PIC\n",
        "        print(\"accuracy on {0} validation example : {1:.2f} \".format(i,idx_acc)) "
      ],
      "execution_count": 0,
      "outputs": []
    },
    {
      "cell_type": "markdown",
      "metadata": {
        "colab_type": "text",
        "id": "TOjIT6f75t5N"
      },
      "source": [
        "### Training function"
      ]
    },
    {
      "cell_type": "code",
      "metadata": {
        "colab_type": "code",
        "id": "UsTEd0nI5t5O",
        "colab": {}
      },
      "source": [
        "def train_model(model, optimizer, loss_function, scheduler_obj ,train_loader, val_loader = None, verbose = False, num_epochs=5):         \n",
        "    train_loss_history, train_acc_history, val_acc_history = [], [], []\n",
        "    \n",
        "    scheduler = scheduler_obj\n",
        "    \n",
        "    for epoch in range(num_epochs):\n",
        "        model.train()\n",
        "    \n",
        "        train_acc_accum = 0.0\n",
        "        running_loss = 0\n",
        "        \n",
        "        for x,y in train_loader:\n",
        "            x = x.to(device)\n",
        "            y = y.to(device)\n",
        "            \n",
        "            output = model(x) # batch_size x num_classes x height x width\n",
        "            pred = torch.argmax(output, dim=1)\n",
        "            \n",
        "            optimizer.zero_grad()\n",
        "            \n",
        "            loss = loss_function(output,y)\n",
        "            train_acc_accum += float(torch.sum(pred == y))/ (x.shape[0] * PIXELS_IN_PIC) ##ACC_METRIC\n",
        "            \n",
        "            loss.backward()\n",
        "            optimizer.step()\n",
        "            \n",
        "            running_loss += loss.item()\n",
        "            \n",
        "        train_acc = train_acc_accum / train_loader.__len__()\n",
        "        val_acc = \"-\" if (val_loader == None) else compute_validation_accuracy(model, val_loader)\n",
        "        loss_norm = running_loss / train_loader.__len__()\n",
        "        scheduler.step(loss_norm)\n",
        "        \n",
        "        if (verbose):\n",
        "          print(\"Epoch: {0}, tr_loss = {1:.4f} , tr_acc = {2:.3f}, val_acc = {3}\".format(epoch+1, loss_norm, train_acc, val_acc) )\n",
        "        \n",
        "        train_loss_history.append(loss_norm)\n",
        "        train_acc_history.append(train_acc)\n",
        "        val_acc_history.append(val_acc)\n",
        "        \n",
        "    return train_loss_history, train_acc_history, val_acc_history"
      ],
      "execution_count": 0,
      "outputs": []
    },
    {
      "cell_type": "markdown",
      "metadata": {
        "colab_type": "text",
        "id": "yVRU9m5h5t5V"
      },
      "source": [
        "### Toy Dataset for sanity check"
      ]
    },
    {
      "cell_type": "code",
      "metadata": {
        "colab_type": "code",
        "id": "gJWZstuW5t5X",
        "colab": {}
      },
      "source": [
        "### Create toy dataset to check  implementation\n",
        "np.random.seed(42)\n",
        "\n",
        "tr_toy_size = 5\n",
        "val_toy_size = 1 \n",
        "toy_batch = 5\n",
        "\n",
        "tr_toy_ind = np.random.choice(train_indices, size = tr_toy_size) \n",
        "val_toy_ind =np.random.choice(val_indices, size = val_toy_size) \n",
        "\n",
        "\n",
        "train_toy_sampler = torch.utils.data.SubsetRandomSampler(tr_toy_ind)\n",
        "val_toy_sampler = torch.utils.data.SubsetRandomSampler(val_toy_ind) \n",
        "\n",
        "train_toy_loader = DataLoader(dataset=dataset, batch_size=toy_batch, sampler= train_toy_sampler)\n",
        "val_toy_loader = DataLoader(dataset=dataset, batch_size= toy_batch, sampler = val_toy_sampler)"
      ],
      "execution_count": 0,
      "outputs": []
    },
    {
      "cell_type": "markdown",
      "metadata": {
        "id": "rZflP1eWBKwH",
        "colab_type": "text"
      },
      "source": [
        "### Model Initialization"
      ]
    },
    {
      "cell_type": "code",
      "metadata": {
        "id": "emaJq8XFmBC6",
        "colab_type": "code",
        "colab": {}
      },
      "source": [
        "model = UNet(128)\n",
        "model.to(device)\n",
        "loss = torch.nn.CrossEntropyLoss(weight=weight)\n",
        "\n",
        "if (device.type == \"cuda\"):\n",
        "    model.type(torch.cuda.FloatTensor)\n",
        "    loss.type(torch.cuda.FloatTensor)\n",
        "\n",
        "optim = torch.optim.Adam(model.parameters(), lr = 1e-3,weight_decay = 1e-4)\n",
        "scheduler = torch.optim.lr_scheduler.ReduceLROnPlateau(optim, mode = \"min\",patience = 1, verbose =True, threshold=0.01)\n",
        "\n",
        "torch.optim.lr_scheduler.CosineAnnealingLR()"
      ],
      "execution_count": 0,
      "outputs": []
    },
    {
      "cell_type": "code",
      "metadata": {
        "id": "a34e3H6Z0wn6",
        "colab_type": "code",
        "colab": {}
      },
      "source": [
        "plt.plot(train_acc_history,\"C1\")\n",
        "plt.plot(val_acc_history, 'b')"
      ],
      "execution_count": 0,
      "outputs": []
    },
    {
      "cell_type": "markdown",
      "metadata": {
        "id": "04QKGFbbBQP-",
        "colab_type": "text"
      },
      "source": [
        "### Training process"
      ]
    },
    {
      "cell_type": "code",
      "metadata": {
        "id": "YG8t1QPZG1_f",
        "colab_type": "code",
        "colab": {}
      },
      "source": [
        "from torch.utils.tensorboard import SummaryWriter\n",
        " \n",
        "\n",
        "writer = SummaryWriter(\"runs/exp1\",)\n",
        "\n",
        "\n",
        "# grid = torchvision.utils.make_grid(images)\n",
        "# writer.add_image('images', grid, 0)\n",
        "writer.add_graph(model, next(iter(train_loader))[0].to(device) )\n",
        "writer.add_text(\"params\", \"lr=10\")\n",
        "writer.add_scalar(\"lr\",optim.param_groups[0][\"lr\"])\n",
        "writer.close()\n",
        "\n",
        "from tensorflow import summary\n",
        "%load_ext tensorboard\n",
        "\n",
        "torch.tf\n",
        "\n",
        "\n",
        "writer.add_graph(model, next(iter(train_loader))[0].to(device) )\n",
        "writer. add_text(\"params\", \"lr=10\")\n",
        "writer.file_writer.add_scalar(\"lr\",optim.param_groups[0][\"lr\"])\n",
        "\n",
        "%tensorboard --logdir=content/runs/exp1/"
      ],
      "execution_count": 0,
      "outputs": []
    },
    {
      "cell_type": "markdown",
      "metadata": {
        "colab_type": "text",
        "id": "DhLpst_W5t5p"
      },
      "source": [
        "### Random Hyper-parameter search\n",
        "    Parameters:\n",
        "    - learning rate\n",
        "    - weight decay\n",
        "    - optimizers\n",
        "    - lr schedule\n",
        "    - loss function\n",
        "    \n",
        "    Algorithm:\n",
        "    1) Get random sample from search space\n",
        "    2) Define model with given parameters and train 1 epoch. Check whether training starts well\n",
        "    3) \n",
        "    5) Final search performs N times and return best parameters"
      ]
    },
    {
      "cell_type": "code",
      "metadata": {
        "colab_type": "code",
        "id": "x5ZWDZ2b5t5r",
        "colab": {}
      },
      "source": [
        "dict_params = {\n",
        "    \"lr\" : [-10,-3],\n",
        "    \"L2\" : [-6,-1],\n",
        "    \"lr_anneal_factor\" : [0.01, 0.5, 0.9],\n",
        "    \"lr_anneal_size\" : [1,3,10],\n",
        "    #\"scheduler\" : [ [ \"Cyclic\" , [3,4,5,10], [0.1,0.5,0.93] ], [ [\"Cosine\",[1],[2]]] ],\n",
        "    \"loss\" : [\"CCE\"],\n",
        "    \"optimizer\": [\"Adam\", \"SGD\"]\n",
        "}\n",
        "\n",
        "def make_sample(params):\n",
        "    sample_dict={}\n",
        "  \n",
        "    for key,value in params.items():\n",
        "        if  (key == \"optimizer\"):\n",
        "            sampled_param = np.random.choice(value)  \n",
        "        elif (key == \"loss\"):\n",
        "            sampled_param = torch.nn.CrossEntropyLoss\n",
        "    #     elif (key == \"scheduler\"):\n",
        "    #       sch  = np.random.choice(value)\n",
        "    #       sampl_param = [np.random.choice(x) for x in sch[1:]]\n",
        "    #       sampled_param = [sch[0],sampl_param]\n",
        "        elif (key == \"lr_aneal_factor\" or key == \"lr_aneal_factor\") :\n",
        "            sampled_param = np.random.choice(value)\n",
        "        else:\n",
        "            sampled_param = 10 ** np.random.uniform(low = value[0], high = value[1]) \n",
        "        sample_dict[key] = sampled_param\n",
        "        \n",
        "    return sample_dict\n",
        "\n",
        "def Random_search(chan_fact, dict_of_params, N, train_loader, val_loader):\n",
        "    dict_evaluations = {}\n",
        "    \n",
        "    for i in range(N):\n",
        "        \n",
        "        # Get random parameters\n",
        "        sample = make_sample(dict_of_params)\n",
        "    \n",
        "        # Define model\n",
        "        model_def = UNet(chan_fact)\n",
        "        loss = sample[\"loss\"](weight)\n",
        "        \n",
        "        if (device.type == \"cuda\"):\n",
        "            model_def.type(torch.cuda.FloatTensor)\n",
        "            loss.type(torch.cuda.FloatTensor)\n",
        "        \n",
        "        if (sample[\"optimizer\"] == \"Adam\"):\n",
        "            optimizer = torch.optim.Adam(model_def.parameters(), lr = sample[\"lr\"], weight_decay = sample[\"L2\"])\n",
        "        elif (sample[\"optimizer\"] == \"SGD\"):\n",
        "            optimizer = torch.optim.SGD(model_def.parameters(), lr = sample[\"lr\"], momentum = 0.9 , weight_decay = sample[\"L2\"] )         \n",
        "        \n",
        "#         if (sample[\"scheduler\"][0] == \"Cyclic\"):\n",
        "#             scheduler = torch.optim.lr_scheduler.CyclicLR(optimizer, *sample[\"scheduler\"][1])\n",
        "#         elif (sample[\"scheduler\"][0] == \"Cosine\"):\n",
        "#             scheduler = torch.optim.lr_scheduler.CosineAnnealingLR(optimizer, *sample[\"scheduler\"][1])\n",
        "#         elif (sample[\"scheduler\"][0] == \"ReduceLRonPlateau\"):\n",
        "#             scheduler = torch.optim.lr_scheduler.ReduceLROnPlateau (optimizer, *sample[\"scheduler\"][1])\n",
        "        \n",
        "        scheduler = torch.optim.lr_scheduler.StepLR(optimizer=optimizer, step_size = sample[\"lr_anneal_size\"], gamma = sample[\"lr_anneal_factor\"] )\n",
        "                       \n",
        "        #perform training\n",
        "        train_loss_h, train_acc, val_acc_history = train_model(model_def, optimizer, loss, scheduler, train_loader, val_loader = val_loader,verbose = False, num_epochs = 20)\n",
        "        \n",
        "        \n",
        "        #dict_evaluations.append([sample, [train_loss_h, train_acc, val_acc_history]])\n",
        "                  \n",
        "        print(\"Sampled {0}\".format(i))    \n",
        "        dict_evaluations[tuple([(name,val) for name,val in sample.items()])] = [train_loss_h, train_acc, val_acc_history]\n",
        "        \n",
        "    return dict_evaluations"
      ],
      "execution_count": 0,
      "outputs": []
    },
    {
      "cell_type": "code",
      "metadata": {
        "id": "2xtipf62xVEf",
        "colab_type": "code",
        "colab": {}
      },
      "source": [
        "dict_model = Random_search(64, dict_params, 20, train_toy_loader, val_toy_loader)"
      ],
      "execution_count": 0,
      "outputs": []
    },
    {
      "cell_type": "code",
      "metadata": {
        "id": "-CFf0CLkL1au",
        "colab_type": "code",
        "colab": {}
      },
      "source": [
        "for params, (tr_loss, tr_acc,val_acc) in dict_model.items():\n",
        "    print(params)\n",
        "    plt.plot(tr_acc, \"b\")\n",
        "    plt.plot(val_acc, \"C1\")"
      ],
      "execution_count": 0,
      "outputs": []
    },
    {
      "cell_type": "code",
      "metadata": {
        "id": "H7a-wd7qcvqD",
        "colab_type": "code",
        "colab": {}
      },
      "source": [
        "import torch\n",
        "import torchvision\n",
        "from torch.utils.tensorboard import SummaryWriter\n",
        "from torchvision import datasets, transforms\n",
        "\n",
        "# Writer will output to ./runs/ directory by default\n",
        "writer = SummaryWriter(\"runs/new2\")\n",
        "\n",
        "model = UNet(64)\n",
        "model.to(device)\n",
        "\n",
        "images = next(iter(train_toy_loader))[0].to(device)\n",
        "\n",
        "\n",
        "writer.add_graph(model, images)\n",
        "writer.close()\n"
      ],
      "execution_count": 0,
      "outputs": []
    },
    {
      "cell_type": "code",
      "metadata": {
        "id": "qJ7SUKiWdAWD",
        "colab_type": "code",
        "colab": {}
      },
      "source": [
        "%tensorboard --logdir=runs/new2"
      ],
      "execution_count": 0,
      "outputs": []
    }
  ]
}