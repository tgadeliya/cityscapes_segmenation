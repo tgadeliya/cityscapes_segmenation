{
 "cells": [
  {
   "cell_type": "code",
   "execution_count": 1,
   "metadata": {
    "colab": {},
    "colab_type": "code",
    "id": "NVygkdz95t3I"
   },
   "outputs": [],
   "source": [
    "import numpy as np\n",
    "import random\n",
    "import os \n",
    "\n",
    "from PIL import Image\n",
    "from skimage import io\n",
    "\n",
    "import torch \n",
    "from torch import  optim\n",
    "from torch import nn\n",
    "from torch.utils.data import DataLoader\n",
    "import torch.nn.functional as F\n",
    "\n",
    "import torchvision\n",
    "from torchvision import transforms\n",
    "from torchvision import datasets\n",
    "\n",
    "import matplotlib.pyplot as plt\n",
    "%matplotlib inline"
   ]
  },
  {
   "cell_type": "markdown",
   "metadata": {
    "colab_type": "text",
    "id": "taOAGWza5t3V"
   },
   "source": [
    "#### Download Data"
   ]
  },
  {
   "cell_type": "code",
   "execution_count": 2,
   "metadata": {
    "colab": {},
    "colab_type": "code",
    "id": "SX2li2sT5t3X"
   },
   "outputs": [],
   "source": [
    "# ! wget --directory-prefix=../data/  http://www.mimuw.edu.pl/~ciebie/cityscapes.tgz \n",
    "# ! tar -xzf ../data/cityscapes.tgz -C data/\n",
    "# ! python ../data/cityscapes/check_close.py # Check files\n",
    "# !rm ../data/cityscapes.tgz\n",
    "DATASET_FOLDER = \"../data/cityscapes\"\n",
    "PIXELS_IN_PIC = 256 *256"
   ]
  },
  {
   "cell_type": "markdown",
   "metadata": {},
   "source": [
    "#### Define device to train on"
   ]
  },
  {
   "cell_type": "code",
   "execution_count": 3,
   "metadata": {},
   "outputs": [],
   "source": [
    "global device\n",
    "device = torch.device(\"cpu\")"
   ]
  },
  {
   "cell_type": "markdown",
   "metadata": {
    "colab_type": "text",
    "id": "WD1cQiwK5t3e"
   },
   "source": [
    "### Creating training, validation dataset"
   ]
  },
  {
   "cell_type": "markdown",
   "metadata": {
    "colab_type": "text",
    "id": "9INHkhP25t3g"
   },
   "source": [
    "#### Dataset class"
   ]
  },
  {
   "cell_type": "code",
   "execution_count": 4,
   "metadata": {
    "colab": {},
    "colab_type": "code",
    "id": "81j82LmC5t3i"
   },
   "outputs": [],
   "source": [
    "class CityScapes(torch.utils.data.Dataset):\n",
    "    def __init__(self, path, transform = None):\n",
    "        self.data_folder = path\n",
    "        self.len = len(os.listdir(path))\n",
    "        self.transform = transform\n",
    "        \n",
    "    def __getitem__(self, idx):\n",
    "        path_to_file = os.path.join(self.data_folder,os.listdir(self.data_folder)[idx-1])\n",
    "        image = io.imread(path_to_file)\n",
    "        \n",
    "        if self.transform:\n",
    "            image = self.transform(image)\n",
    "        return image\n",
    "    \n",
    "    def __len__(self):\n",
    "        return self.len"
   ]
  },
  {
   "cell_type": "markdown",
   "metadata": {
    "colab_type": "text",
    "id": "2IXi6buX5t3o"
   },
   "source": [
    "### Array with classes for segmentation"
   ]
  },
  {
   "cell_type": "markdown",
   "metadata": {},
   "source": [
    "##### Function to convert RGB picture to feature map\n",
    "##### source: https://stackoverflow.com/questions/33196130/replacing-rgb-values-in-numpy-array-by-integer-is-extremely-slow"
   ]
  },
  {
   "cell_type": "code",
   "execution_count": 5,
   "metadata": {},
   "outputs": [],
   "source": [
    "def RGB_to_classes(image, color_codes):\n",
    "    image = image.dot(np.array([65536, 256, 1], dtype='int32'))\n",
    "    result = np.ndarray(shape=image.shape, dtype=int)\n",
    "    result[:,:] = -1\n",
    "    for rgb, idx in color_codes.items():\n",
    "        rgb = rgb[0] * 65536 + rgb[1] * 256 + rgb[2]\n",
    "        result[image==rgb] = idx\n",
    "    return result\n",
    "\n",
    "check_array = np.array(\n",
    "    [[116, 17, 36],[152, 43,150],\n",
    "     [106,141, 34],[ 69, 69, 69],\n",
    "     [  2,  1,  3],[127, 63,126],\n",
    "     [222, 52,211],[  2,  1,140],\n",
    "     [ 93,117,119],\n",
    "     [180,228,182],[213,202, 43],\n",
    "     [ 79,  2, 80],[188,151,155],\n",
    "     [  9,  5, 91],[106, 75, 13],\n",
    "     [215, 20, 53],[110,134, 62],\n",
    "     [  8, 68, 98],[244,171,170],\n",
    "     [171, 43, 74],[104, 96,155],\n",
    "     [ 72,130,177],[242, 35,231],\n",
    "     [147,149,149],[ 35, 25, 34],\n",
    "     [155,247,151],[ 85, 68, 99],\n",
    "     [ 71, 81, 43],[195, 64,182],\n",
    "     [146,133, 92]]\n",
    ")\n",
    "\n",
    "array_to_idx = {tuple(arr):idx for idx,arr in enumerate(check_array)}"
   ]
  },
  {
   "cell_type": "markdown",
   "metadata": {
    "colab_type": "text",
    "id": "MtU8bjRi5t30"
   },
   "source": [
    "#### Custom Transformations"
   ]
  },
  {
   "cell_type": "code",
   "execution_count": 14,
   "metadata": {
    "colab": {},
    "colab_type": "code",
    "id": "NCml-zfz5t32"
   },
   "outputs": [],
   "source": [
    "class Split_MakeHorizontalFlip(object):\n",
    "        \n",
    "    def __call__(self,sample):\n",
    "        X,y = sample[:,:256,:], sample[:,256:,:]\n",
    "        y = RGB_to_classes(y,array_to_idx)\n",
    "        if np.random.random() > 0.5:\n",
    "            X[:], y[:] = X[:,::-1,:],y[:,::-1]\n",
    "        return (transforms.functional.to_tensor(X), torch.from_numpy(y))\n",
    "            "
   ]
  },
  {
   "cell_type": "code",
   "execution_count": 200,
   "metadata": {},
   "outputs": [],
   "source": [
    "class Split(object):\n",
    "    def __call__(self, concat_X_y):\n",
    "        return (concat_X_y[:,:256,:],concat_X_y[:,256:,:]) \n",
    "\n",
    "class MakeHorizontalFlip(object):\n",
    "    def __init__(self,p = 0.5):\n",
    "        self.p = p\n",
    "        \n",
    "    def __call__(self,sample):\n",
    "        \n",
    "        if random.random() > self.p:\n",
    "            sample[0][:] = sample[0][:,::-1,:]\n",
    "            sample[1][:] = sample[1][:,::-1,:]\n",
    "        \n",
    "        return transforms.functional.to_tensor(sample[0]), transforms.functional.to_tensor(sample[1])"
   ]
  },
  {
   "cell_type": "code",
   "execution_count": 15,
   "metadata": {
    "colab": {},
    "colab_type": "code",
    "id": "X5UWayNu5t38"
   },
   "outputs": [],
   "source": [
    "from torchvision.transforms import ToTensor\n",
    "\n",
    "trsf = transforms.Compose([Split_MakeHorizontalFlip()])\n",
    "dataset = CityScapes(DATASET_FOLDER, transform=trsf)"
   ]
  },
  {
   "cell_type": "markdown",
   "metadata": {
    "colab_type": "text",
    "id": "SQPeh_YW5t4c"
   },
   "source": [
    "#### Create DataLoader for training and validation"
   ]
  },
  {
   "cell_type": "code",
   "execution_count": 23,
   "metadata": {
    "colab": {},
    "colab_type": "code",
    "id": "3ehXYlkY5t4e"
   },
   "outputs": [],
   "source": [
    "indices = np.arange(dataset.__len__())\n",
    "np.random.shuffle(indices)\n",
    "\n",
    "# Random indices for training and validation Ratio 2976 / 500 \n",
    "val_indices, train_indices =  indices[:500], indices[500:]\n",
    "\n",
    "train_sampler = torch.utils.data.SubsetRandomSampler(train_indices)\n",
    "val_sampler = torch.utils.data.SubsetRandomSampler(val_indices)\n",
    "\n",
    "train_loader = DataLoader(dataset, batch_size = 8, sampler = train_sampler) \n",
    "val_loader = DataLoader(dataset, batch_size = 8, sampler = val_sampler)"
   ]
  },
  {
   "cell_type": "markdown",
   "metadata": {
    "colab_type": "text",
    "id": "YkiHZp_A5t4l"
   },
   "source": [
    "### Defining U-net, loss_function, optimizer"
   ]
  },
  {
   "cell_type": "code",
   "execution_count": 24,
   "metadata": {
    "colab": {},
    "colab_type": "code",
    "id": "YKWVOBaf5t4n"
   },
   "outputs": [],
   "source": [
    "def make_block(in_channels, out_channels):\n",
    "    block = nn.Sequential(nn.ReplicationPad2d(1),\n",
    "                              nn.Conv2d(in_channels, out_channels, 3),\n",
    "                              nn.ReLU(),\n",
    "                              nn.BatchNorm2d(out_channels),\n",
    "                              nn.ReplicationPad2d(1),\n",
    "                              nn.Conv2d(out_channels, out_channels, 3),\n",
    "                              nn.ReLU(),\n",
    "                              nn.BatchNorm2d(out_channels)\n",
    "                             )\n",
    "    if (device.type == \"cuda\"):\n",
    "        block.type(torch.cuda.FloatTensor)\n",
    "    return block"
   ]
  },
  {
   "cell_type": "code",
   "execution_count": 26,
   "metadata": {
    "colab": {},
    "colab_type": "code",
    "id": "YHS95_hn5t4s"
   },
   "outputs": [],
   "source": [
    "class UNet(nn.Module):\n",
    "    def __init__(self, basic_chl,num_classes = 30,image_channels = 3):\n",
    "        super(UNet, self).__init__()\n",
    "        \n",
    "        #Calculate channels based on basic channel\n",
    "        BL1_chl, BL2_chl, BL3_chl, BL4_chl, BL5_chl= [basic_chl * i for i in [1,2,4,8,16]]\n",
    "        \n",
    "        #Encoder blocks\n",
    "        self.ENC_BL1 = make_block(image_channels,BL1_chl)\n",
    "        self.ENC_BL2 = make_block(BL1_chl,BL2_chl)\n",
    "        self.ENC_BL3 = make_block(BL2_chl,BL3_chl)\n",
    "        self.ENC_BL4 = make_block(BL3_chl,BL4_chl)\n",
    "        self.ENC_BL5 = make_block(BL4_chl,BL5_chl)\n",
    "        \n",
    "        #MaxPool for downsampling\n",
    "        self.MaxPool = nn.MaxPool2d(2,2)\n",
    "        \n",
    "        #UpConv for upsampling\n",
    "        self.UpConv1 = nn.ConvTranspose2d(BL5_chl, BL4_chl, 2, stride = 2)\n",
    "        self.UpConv2 = nn.ConvTranspose2d(BL4_chl, BL3_chl, 2, stride = 2)\n",
    "        self.UpConv3 = nn.ConvTranspose2d(BL3_chl, BL2_chl, 2, stride = 2)\n",
    "        self.UpConv4 = nn.ConvTranspose2d(BL2_chl, BL1_chl, 2, stride = 2)\n",
    "        \n",
    "        #Decoder blocks\n",
    "        self.DEC_BL1 = make_block(BL5_chl,BL4_chl)\n",
    "        self.DEC_BL2 = make_block(BL4_chl,BL3_chl)\n",
    "        self.DEC_BL3 = make_block(BL3_chl,BL2_chl)\n",
    "        self.DEC_BL4 = make_block(BL2_chl,BL1_chl)\n",
    "        \n",
    "        # Last convolution\n",
    "        self.Final_CONV = nn.Conv2d(basic_chl, num_classes, 1)\n",
    "        \n",
    "    \n",
    "    def forward(self,X):\n",
    "        # Encoder\n",
    "        ENC_1_out = self.ENC_BL1.forward(X)\n",
    "        MaxENC_1_out = self.MaxPool.forward(ENC_1_out)\n",
    "        \n",
    "        ENC_2_out = self.ENC_BL2.forward(MaxENC_1_out)\n",
    "        MaxENC_2_out = self.MaxPool.forward(ENC_2_out)\n",
    "        \n",
    "        ENC_3_out = self.ENC_BL3.forward(MaxENC_2_out)\n",
    "        MaxENC_3_out = self.MaxPool.forward(ENC_3_out)\n",
    "        \n",
    "        ENC_4_out = self.ENC_BL4.forward(MaxENC_3_out)\n",
    "        MaxENC_4_out = self.MaxPool.forward(ENC_4_out)\n",
    "                \n",
    "        # Bridge to Decoder\n",
    "        ENC_5_out = self.ENC_BL5.forward(MaxENC_4_out)\n",
    "        UpENC_5_out = self.UpConv1.forward(ENC_5_out)  \n",
    "        \n",
    "        #Decoder\n",
    "        DEC_1_in = torch.cat((UpENC_5_out,ENC_4_out), dim = 1)\n",
    "        DEC_1_out = self.DEC_BL1.forward( DEC_1_in)\n",
    "        UpDEC_1_out = self.UpConv2.forward(DEC_1_out)\n",
    "        \n",
    "        \n",
    "        DEC_2_in = torch.cat((UpDEC_1_out,ENC_3_out), dim = 1)\n",
    "        DEC_2_out = self.DEC_BL2.forward(DEC_2_in)\n",
    "        UpDEC_2_out = self.UpConv3.forward(DEC_2_out)\n",
    "        \n",
    "        DEC_3_in = torch.cat((UpDEC_2_out,ENC_2_out), dim = 1)\n",
    "        DEC_3_out = self.DEC_BL3.forward(DEC_3_in)\n",
    "        UpDEC_3_out = self.UpConv4.forward(DEC_3_out)\n",
    "        \n",
    "        DEC_4_in = torch.cat((UpDEC_3_out,ENC_1_out), dim = 1)\n",
    "        DEC_4_out = self.DEC_BL4.forward(DEC_4_in)\n",
    "          \n",
    "        #Final Convolution    \n",
    "        segmenatation_map = self.Final_CONV.forward(DEC_4_out)\n",
    "    \n",
    "        return segmenatation_map\n",
    "    "
   ]
  },
  {
   "cell_type": "code",
   "execution_count": 25,
   "metadata": {
    "colab": {},
    "colab_type": "code",
    "id": "JuNedfah5t45"
   },
   "outputs": [],
   "source": [
    "def compute_validation_accuracy(model, val_loader):\n",
    "    model.eval()\n",
    "    \n",
    "    acc_accum = 0.0\n",
    "    PIXELS_IN_BATCH = PIXELS_IN_PIC * val_loader.batch_size\n",
    "    for X,y in val_loader:\n",
    "        x = X.to(device)\n",
    "        y = y.to(device)\n",
    "        \n",
    "        prediction = torch.argmax( model(x), dim = 1)\n",
    "        acc_accum += float(torch.sum(prediction == y))/PIXELS_IN_BATCH\n",
    "        \n",
    "    accuracy = acc_accum / val_loader.__len__()    \n",
    "    return accuracy"
   ]
  },
  {
   "cell_type": "markdown",
   "metadata": {
    "colab_type": "text",
    "id": "TOjIT6f75t5N"
   },
   "source": [
    "### Training model"
   ]
  },
  {
   "cell_type": "code",
   "execution_count": 27,
   "metadata": {
    "colab": {},
    "colab_type": "code",
    "id": "UsTEd0nI5t5O"
   },
   "outputs": [],
   "source": [
    "def train_model(model, train_loader, val_loader , optimizer, loss_function, num_epochs,sch,gamma):\n",
    "    model.train()\n",
    "    \n",
    "    train_loss_history, train_acc_history, val_acc_history = [], [], []\n",
    "    \n",
    "    #scheduler = torch.optim.lr_scheduler.CyclicLR(optimizer, base_lr, max_l)\n",
    "    scheduler = torch.optim.lr_scheduler.StepLR(optimizer, step_size = sch , gamma = gamma)\n",
    "    \n",
    "    for epoch in range(num_epochs):\n",
    "        train_acc_accum = 0.0\n",
    "        \n",
    "        scheduler.step()\n",
    "        \n",
    "        \n",
    "        for x,y in train_loader:\n",
    "            x = x.to(device)\n",
    "            y = y.to(device)\n",
    "\n",
    "            output = model(x) # batch_size x num_classes x height x width\n",
    "            pred = torch.argmax(output, dim=1)\n",
    "            \n",
    "            loss = loss_function(output,y)\n",
    "            train_acc_accum += float(torch.sum(pred == y))/ (x.shape[0] * PIXELS_IN_PIC) ##ACC_METRIC\n",
    "            \n",
    "            \n",
    "            optimizer.zero_grad()\n",
    "            loss.backward()\n",
    "            optimizer.step()\n",
    "            #scheduler.step()\n",
    "            \n",
    "            \n",
    "        train_acc = train_acc_accum / train_loader.__len__()\n",
    "        val_acc = compute_validation_accuracy(model, val_loader)\n",
    "        loss_norm = loss.item()/train_loader.__len__()\n",
    "        \n",
    "        #print(\"Epoch: {0}, tr_loss = {1:.4f} , tr_acc = {2:.3f} , val_acc {3:.3f} \".format(epoch+1, loss_norm, train_acc, val_acc) )\n",
    "\n",
    "        train_loss_history.append(loss.item())\n",
    "        train_acc_history.append(train_acc)\n",
    "        val_acc_history.append(val_acc)\n",
    "        \n",
    "    return train_loss_history, train_acc_history, val_acc_history"
   ]
  },
  {
   "cell_type": "markdown",
   "metadata": {
    "colab_type": "text",
    "id": "yVRU9m5h5t5V"
   },
   "source": [
    "### Toy Dataset for sanity check"
   ]
  },
  {
   "cell_type": "code",
   "execution_count": 28,
   "metadata": {
    "colab": {},
    "colab_type": "code",
    "id": "gJWZstuW5t5X"
   },
   "outputs": [],
   "source": [
    "### Create toy dataset to check  implementation\n",
    "np.random.seed(42)\n",
    "\n",
    "tr_toy_size = 5\n",
    "val_toy_size = 2 \n",
    "toy_batch = 2\n",
    "\n",
    "tr_toy_ind = np.random.choice(train_indices, size = tr_toy_size) \n",
    "val_toy_ind = np.random.choice(val_indices, size = val_toy_size) \n",
    "\n",
    "\n",
    "train_toy_sampler = torch.utils.data.SubsetRandomSampler(tr_toy_ind)\n",
    "val_toy_sampler = torch.utils.data.SubsetRandomSampler(val_toy_ind) \n",
    "\n",
    "train_toy_loader = DataLoader(dataset=dataset, batch_size=toy_batch, sampler= train_toy_sampler)\n",
    "val_toy_loader = DataLoader(dataset=dataset, batch_size= toy_batch, sampler = val_toy_sampler)"
   ]
  },
  {
   "cell_type": "code",
   "execution_count": 29,
   "metadata": {
    "colab": {
     "base_uri": "https://localhost:8080/",
     "height": 286
    },
    "colab_type": "code",
    "id": "w5CuRnUe5t5d",
    "outputId": "7ce5333b-b0d7-4568-d758-6bbdbc0c1e72"
   },
   "outputs": [
    {
     "name": "stdout",
     "output_type": "stream",
     "text": [
      "torch.Size([2, 3, 256, 256])\n",
      "torch.Size([2, 3, 256, 256])\n",
      "torch.Size([1, 3, 256, 256])\n",
      "torch.Size([2, 3, 256, 256])\n",
      "torch.Size([2, 3, 256, 256])\n",
      "torch.Size([1, 3, 256, 256])\n"
     ]
    },
    {
     "data": {
      "text/plain": [
       "[<matplotlib.lines.Line2D at 0x7fdb629d5da0>]"
      ]
     },
     "execution_count": 29,
     "metadata": {},
     "output_type": "execute_result"
    },
    {
     "data": {
      "image/png": "[encoded data removed]",
      "text/plain": [
       "<Figure size 432x288 with 1 Axes>"
      ]
     },
     "metadata": {
      "needs_background": "light"
     },
     "output_type": "display_data"
    }
   ],
   "source": [
    "model = UNet(64)\n",
    "model.to(device)\n",
    "loss = nn.modules.loss.CrossEntropyLoss()\n",
    "\n",
    "if (device.type == \"cuda\"):\n",
    "    model.type(torch.cuda.FloatTensor)\n",
    "    loss.type(torch.cuda.FloatTensor)\n",
    "\n",
    "optim = torch.optim.Adam(model.parameters(), lr =1e-3, weight_decay=1e-3)\n",
    "\n",
    "train_loss_history, train_acc_history, val_acc_history = train_model(model,train_toy_loader, val_toy_loader, optim, loss, 2, 5, 0.1)\n",
    "plt.plot(train_loss_history)"
   ]
  },
  {
   "cell_type": "code",
   "execution_count": null,
   "metadata": {
    "colab": {
     "base_uri": "https://localhost:8080/",
     "height": 286
    },
    "colab_type": "code",
    "id": "neUBZNZheD-m",
    "outputId": "5880a368-b4bc-427f-b37a-140769ed0511"
   },
   "outputs": [
    {
     "data": {
      "text/plain": [
       "[<matplotlib.lines.Line2D at 0x7f060a4749b0>]"
      ]
     },
     "execution_count": 153,
     "metadata": {
      "tags": []
     },
     "output_type": "execute_result"
    },
    {
     "data": {
      "image/png": "[encoded data removed]",
      "text/plain": [
       "<Figure size 432x288 with 1 Axes>"
      ]
     },
     "metadata": {
      "tags": []
     },
     "output_type": "display_data"
    }
   ],
   "source": [
    "train_loss_history, train_acc_history, val_acc_history = train_model(model,train_toy_loader, val_toy_loader, optim2, loss, 20, device, 5, 0.1)\n",
    "plt.plot(train_acc_history)"
   ]
  },
  {
   "cell_type": "markdown",
   "metadata": {
    "colab_type": "text",
    "id": "DhLpst_W5t5p"
   },
   "source": [
    "### Random Hyper-parameter search\n",
    "    Parameters:\n",
    "    - learning rate\n",
    "    - weight decay\n",
    "    \n",
    "    Algorithm:\n",
    "    1) Get random sample from search space\n",
    "    2) Define model with given parameters and train 1 epoch. Check whether training starts well\n",
    "    3) \n",
    "    5) Final search performs N times and return best parameters"
   ]
  },
  {
   "cell_type": "code",
   "execution_count": null,
   "metadata": {
    "colab": {},
    "colab_type": "code",
    "id": "x5ZWDZ2b5t5r"
   },
   "outputs": [],
   "source": [
    "dict_params = {\n",
    "    \"lr\" : [-5,-1],\n",
    "    \"lr_annealing\" : [],\n",
    "    \"L2\" : [-6,-1],\n",
    "    \"Dropout\" : [-1,0],\n",
    "}\n",
    "\n",
    "def Random_search(dict_of_params, N):\n",
    "    best_score = 0.0\n",
    "    dict_evaluations\n",
    "    \n",
    "    \n",
    "    for i in range(N):\n",
    "        \n",
    "        # Get random parameters\n",
    "        sample = {par_name:10 ** np.random.uniform(r[0],r[1]) for par_name, r in param_dict.items() }\n",
    "    \n",
    "        # Define model\n",
    "        model = UNet(4)\n",
    "        optimizer = torch.optim.Adam(model.params(), lr =sample[\"lr\"], weight_decay=sample[\"L2\"])\n",
    "        # loss function\n",
    "        \n",
    "        #perform training\n",
    "        train_loss_h, train_acc, val_acc_history, = def train_model(model, optimizer, loss_function, 1)\n",
    "        \n",
    "        if  (train_loss_h[0] > loss_threshold) :\n",
    "            dict_evaluations[ ] = train_loss_h\n",
    "            continue\n",
    "            # Training exploded and there is no sense to continue\n",
    "    \n",
    "        \n",
    "        if val_acc_history[-1] > best_score:\n",
    "            best_score = val_acc_history[-1]\n",
    "            best_params = params\n",
    "            \n",
    "        dict_evaluations[tuple([(name,val) for name,val in sample])] = val_acc_history\n",
    "        \n",
    "    return dict_evaluations"
   ]
  },
  {
   "cell_type": "code",
   "execution_count": null,
   "metadata": {
    "colab": {},
    "colab_type": "code",
    "id": "fh7jTWmL5t5y"
   },
   "outputs": [],
   "source": []
  }
 ],
 "metadata": {
  "accelerator": "GPU",
  "colab": {
   "name": "0.1-initial-data-model.ipynb",
   "provenance": [],
   "version": "0.3.2"
  },
  "kernelspec": {
   "display_name": "Python 3",
   "language": "python",
   "name": "python3"
  },
  "language_info": {
   "codemirror_mode": {
    "name": "ipython",
    "version": 3
   },
   "file_extension": ".py",
   "mimetype": "text/x-python",
   "name": "python",
   "nbconvert_exporter": "python",
   "pygments_lexer": "ipython3",
   "version": "3.6.8"
  }
 },
 "nbformat": 4,
 "nbformat_minor": 2
}
